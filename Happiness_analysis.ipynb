import numpy as np
import pandas as pd
import matplotlib.pyplot as plt

!ls Happiness/raw_data

happiness_survey = pd.read_csv('Happiness/raw_data/datasets_894_813759_2019.csv')
happiness_survey

quarter = happiness_survey['Overall rank'].count()/4
print (quarter)

happiness_survey['Quartile rank'] = happiness_survey['Overall rank']/quarter
happiness_survey['Quartile rank'] = happiness_survey['Quartile rank'].astype(int)
happiness_survey

plt.scatter (happiness_survey['Score'], happiness_survey['GDP per capita'],c=happiness_survey['Quartile rank'])
plt.title ('Happiness Report Component')
plt.xlabel('Overall Score')
plt.ylabel('GDP per capita')
plt.show()

plt.scatter (happiness_survey['Score'], happiness_survey['Social support'],c=happiness_survey['Quartile rank'])
plt.title ('Happiness Report Component')
plt.xlabel('Overall Score')
plt.ylabel('Social support')
plt.show()

plt.scatter (happiness_survey['Score'], happiness_survey['Healthy life expectancy'],c=happiness_survey['Quartile rank'])
plt.title ('Happiness Report Component')
plt.xlabel('Overall Score')
plt.ylabel('Healthy life expectancy')
plt.show()

plt.scatter (happiness_survey['Score'], happiness_survey['Freedom to make life choices'],c=happiness_survey['Quartile rank'])
plt.title ('Happiness Report Component')
plt.xlabel('Overall Score')
plt.ylabel('Freedom to make life choices')
plt.show()

plt.scatter (happiness_survey['Score'], happiness_survey['Generosity'],c=happiness_survey['Quartile rank'])
plt.title ('Happiness Report Component')
plt.xlabel('Overall Score')
plt.ylabel('Generosity')
plt.show()

plt.scatter (happiness_survey['Score'], happiness_survey['Perceptions of corruption'])
plt.title ('Happiness Report Component')
plt.xlabel('Overall Score')
plt.ylabel('Perceptions of corruption')
plt.show()

education = pd.read_csv('Happiness/SYB62_309_201906_Education.csv')
education

education_filter = education.groupby(['Enrollment in primary, secondary and tertiary education levels','Series'])['Year'].max()
education_filter

education_latest = pd.merge(left=education, right=education_filter, left_on=['Enrollment in primary, secondary and tertiary education levels','Series','Year'], right_on = ['Enrollment in primary, secondary and tertiary education levels','Series','Year'])
education_latest

education_latest.drop(['Region/Country/Area','Year',"Footnotes",'Source'], axis = 1, inplace = True)
education_latest

education_latest = pd.pivot_table(education_latest, index='Enrollment in primary, secondary and tertiary education levels', columns='Series', values='Value')
education_latest

plt.figure(figsize=(25,25))
plt.scatter (education_latest['Series'], education_latest['Enrollment in primary, secondary and tertiary education levels'])
plt.show()

H_education = pd.merge(left=happiness_survey, right=education_latest, left_on='Country or region', right_on = 'Enrollment in primary, secondary and tertiary education levels')
H_education

plt.scatter (H_education['Students enrolled in secondary education (thousands)'] / H_education['Students enrolled in primary education (thousands)'],H_education['Score'],c=H_education['Quartile rank'])
plt.title ('Happiness Report Comparison')
plt.xlabel('Ratio: secondary/primary education')
plt.ylabel('Happiness Score')
plt.show()

H_education.info()

plt.scatter (H_education['Students enrolled in tertiary education (thousands)'] / H_education['Students enrolled in primary education (thousands)'],H_education['Score'],c=H_education['Quartile rank'])
plt.title ('Happiness Report Comparison')
plt.xlabel('Ratio: tertiary (Graduate)/primary education enrollment')
plt.ylabel('Happiness Score')
plt.show()

H_education.to_csv('Happiness/H_education.csv')

sanitation = pd.read_csv('Happiness/SYB62_315_201906_Water and Sanitation Services.csv')
sanitation

sanitation_filter = sanitation.groupby(['Water supply and sanitation services','Series'])['Year'].max()
sanitation_filter

sanitation_latest = pd.merge(left=sanitation, right=sanitation_filter, left_on=['Water supply and sanitation services','Series','Year'], right_on = ['Water supply and sanitation services','Series','Year'])
sanitation_latest

sanitation_latest.drop(['Region/Country/Area','Year',"Footnotes",'Source'], axis = 1, inplace = True)
sanitation_latest

sanitation_latest = pd.pivot_table(sanitation_latest, index='Water supply and sanitation services', columns='Series', values='Value')
sanitation_latest

H_sanitation = pd.merge(left=happiness_survey, right=sanitation_latest, left_on='Country or region', right_on = 'Water supply and sanitation services')
H_sanitation

sanitation_latest.info()

H_sanitation.info()

plt.scatter(H_sanitation['Safely managed drinking water sources, total (Proportion of population with access)'],H_sanitation['Score'],c=H_sanitation['Quartile rank'])
plt.title ('Happiness Report Comparison')
plt.xlabel('Safe drinking water (% of population)')
plt.ylabel('Happiness Score')
plt.show()

alcohol_drug = pd.read_csv('Happiness/share-with-alcohol-or-drug-use-disorders.csv')
alcohol_drug

alcohol_drug_filter = alcohol_drug.groupby(['Entity'])['Year'].max()
alcohol_drug_filter

alcohol_drug_latest = pd.merge(left=alcohol_drug, right=alcohol_drug_filter, left_on=['Entity','Year'], right_on = ['Entity','Year'])
alcohol_drug_latest

alcohol_drug_latest.drop(['Code','Year'], axis = 1, inplace = True)
alcohol_drug_latest.rename(columns = {'Prevalence - Alcohol and substance use disorders: Both (age-standardized percent) (%)':'Prevalence percentage'}, inplace = True)
alcohol_drug_latest

H_alcohol_drug = pd.merge(left=happiness_survey, right=alcohol_drug_latest, left_on='Country or region', right_on = 'Entity')
H_alcohol_drug

plt.scatter(H_alcohol_drug['Prevalence percentage'],H_alcohol_drug['Score'],c=H_alcohol_drug['Quartile rank'])
plt.title ('Happiness Report Comparison')
plt.xlabel('Alcohol and drug prevalence (in %)')
plt.ylabel('Happiness Score')
plt.show()

labor = pd.read_csv('Happiness/SYB62_329_201904_Labour Force and Unemployment.csv')
labor

labor_filter = labor.groupby(['Labor force participation and unemployment','Series'])['Year'].max()
labor_filter

labor_latest = pd.merge(left=labor, right=labor_filter, left_on=['Labor force participation and unemployment','Series','Year'], right_on = ['Labor force participation and unemployment','Series','Year'])
labor_latest

labor_latest.drop(['Region/Country/Area','Year','Footnotes','Source','Unnamed: 7','Unnamed: 8','Unnamed: 9'], axis = 1, inplace = True)
# labor_latest.rename(columns = {'Prevalence - Alcohol and substance use disorders: Both (age-standardized percent) (%)':'Prevalence percentage'}, inplace = True)
labor_latest

labor_latest = pd.pivot_table(labor_latest, index='Labor force participation and unemployment', columns='Series', values='Value')
labor_latest

H_labor = pd.merge(left=happiness_survey, right=labor_latest, left_on='Country or region', right_on = 'Labor force participation and unemployment')
H_labor

plt.scatter(H_labor['Labor force participation - Total'],H_labor['Score'],c=H_labor['Quartile rank'])
plt.title ('Happiness Report Comparison')
plt.xlabel('% of labor force employed')
plt.ylabel('Happiness Score')
plt.show()

